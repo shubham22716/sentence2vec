{
  "nbformat": 4,
  "nbformat_minor": 0,
  "metadata": {
    "colab": {
      "name": "Untitled",
      "version": "0.3.2",
      "provenance": []
    },
    "kernelspec": {
      "name": "python3",
      "display_name": "Python 3"
    },
    "accelerator": "TPU"
  },
  "cells": [
    {
      "cell_type": "code",
      "metadata": {
        "id": "ULUNDDOcmoya",
        "colab_type": "code",
        "colab": {}
      },
      "source": [
        "from gensim.models import Word2Vec\n",
        "sentences = [['this', 'is', 'the', 'good', 'machine', 'learning', 'bus'],\n",
        "            ['this', 'is',  'another', 'room'],\n",
        "            ['one',  'book'],\n",
        "            ['this', 'is', 'the', 'why', 'post'],\n",
        "          ['this', 'is', 'about', 'facebook', 'post'], \n",
        "          ['orange', 'juice', 'is', 'the', 'liquid', 'extract', 'of', 'the', 'fruit'],\n",
        "          ['apple', 'drink', 'comes', 'in', 'several', 'different', 'varieties'],\n",
        "            ['and', 'this', 'is', 'the', 'last', 'sentence']]"
      ],
      "execution_count": 0,
      "outputs": []
    },
    {
      "cell_type": "code",
      "metadata": {
        "id": "bIDWqBP9qutd",
        "colab_type": "code",
        "outputId": "39473c7b-3a71-4859-8c5f-fe033a2f0ff1",
        "colab": {
          "base_uri": "https://localhost:8080/",
          "height": 121
        }
      },
      "source": [
        "model =Word2Vec(sentences, min_count=1, size=100)\n",
        "vocab = model.wv.vocab.keys()\n",
        "wordInVocab = len(vocab)\n",
        "print (model.similarity('machine', 'learning'))\n",
        " "
      ],
      "execution_count": 34,
      "outputs": [
        {
          "output_type": "stream",
          "text": [
            "-0.073673815\n"
          ],
          "name": "stdout"
        },
        {
          "output_type": "stream",
          "text": [
            "/usr/local/lib/python3.6/dist-packages/ipykernel_launcher.py:4: DeprecationWarning: Call to deprecated `similarity` (Method will be removed in 4.0.0, use self.wv.similarity() instead).\n",
            "  after removing the cwd from sys.path.\n",
            "/usr/local/lib/python3.6/dist-packages/gensim/matutils.py:737: FutureWarning: Conversion of the second argument of issubdtype from `int` to `np.signedinteger` is deprecated. In future, it will be treated as `np.int64 == np.dtype(int).type`.\n",
            "  if np.issubdtype(vec.dtype, np.int):\n"
          ],
          "name": "stderr"
        }
      ]
    },
    {
      "cell_type": "code",
      "metadata": {
        "id": "XxFFwYuJnHWk",
        "colab_type": "code",
        "colab": {}
      },
      "source": [
        "import numpy as np\n",
        " \n",
        "def sent_vectorizer(sent, model):\n",
        "    sent_vec = np.zeros(100)\n",
        "    numw = 0\n",
        "    for w in sent:\n",
        "        try:\n",
        "            sent_vec = np.add(sent_vec, model[w])\n",
        "            numw+=1\n",
        "        except:\n",
        "            pass\n",
        "    return sent_vec / np.sqrt(sent_vec.dot(sent_vec))\n",
        " "
      ],
      "execution_count": 0,
      "outputs": []
    },
    {
      "cell_type": "code",
      "metadata": {
        "id": "tY3OX7UjrJF-",
        "colab_type": "code",
        "outputId": "28143ed7-7a08-4b59-9494-278c34c23713",
        "colab": {
          "base_uri": "https://localhost:8080/",
          "height": 87
        }
      },
      "source": [
        "V=[]\n",
        "for sentence in sentences:\n",
        "    V.append(sent_vectorizer(sentence, model))\n",
        " \n",
        "from numpy import dot\n",
        "from numpy.linalg import norm\n",
        "results = [[0 for i in range(len(V))] for j in range(len(V))] \n",
        " \n",
        "for i in range (len(V) - 1):\n",
        "    for j in range(i+1, len(V)):\n",
        "           results[i][j] = dot(V[i],V[j])/norm(V[i])/norm(V[j])\n",
        " \n",
        " \n",
        "print (results)"
      ],
      "execution_count": 36,
      "outputs": [
        {
          "output_type": "stream",
          "text": [
            "[[0, 0.38749679047141716, 0.02322635855794768, 0.5239331944577336, 0.3199069617540972, 0.3423894114344807, 0.07207963773789818, 0.5111989948612314], [0, 0, 0.04444974929765588, 0.40649865226941106, 0.37878671896481264, 0.07676234477522294, -0.05817849825805105, 0.359130975838411], [0, 0, 0, -0.14564475551778278, -0.08109598563440382, 0.048683980950652316, -0.02569289699789235, -0.005323762441464487], [0, 0, 0, 0, 0.5186186910522803, 0.3946082654146859, -0.001094161587685734, 0.5221640341946142], [0, 0, 0, 0, 0, 0.06807483500475149, 0.014308650129454098, 0.37210455931797237], [0, 0, 0, 0, 0, 0, -0.0900121754873803, 0.4070276897431932], [0, 0, 0, 0, 0, 0, 0, 0.08594515517603211], [0, 0, 0, 0, 0, 0, 0, 0]]\n"
          ],
          "name": "stdout"
        },
        {
          "output_type": "stream",
          "text": [
            "/usr/local/lib/python3.6/dist-packages/ipykernel_launcher.py:8: DeprecationWarning: Call to deprecated `__getitem__` (Method will be removed in 4.0.0, use self.wv.__getitem__() instead).\n",
            "  \n"
          ],
          "name": "stderr"
        }
      ]
    },
    {
      "cell_type": "code",
      "metadata": {
        "id": "DnClrFc4rY1K",
        "colab_type": "code",
        "outputId": "bda24c22-9b7a-4a99-9450-6d8944ab271e",
        "colab": {
          "base_uri": "https://localhost:8080/",
          "height": 507
        }
      },
      "source": [
        "model['this']"
      ],
      "execution_count": 42,
      "outputs": [
        {
          "output_type": "stream",
          "text": [
            "/usr/local/lib/python3.6/dist-packages/ipykernel_launcher.py:1: DeprecationWarning: Call to deprecated `__getitem__` (Method will be removed in 4.0.0, use self.wv.__getitem__() instead).\n",
            "  \"\"\"Entry point for launching an IPython kernel.\n"
          ],
          "name": "stderr"
        },
        {
          "output_type": "execute_result",
          "data": {
            "text/plain": [
              "array([ 4.8721270e-03,  1.1458780e-03,  5.1766407e-04,  1.3774664e-03,\n",
              "       -1.1767253e-04, -3.4603602e-03, -5.2207883e-04,  4.7901412e-03,\n",
              "        2.6613084e-04, -2.5941359e-04, -4.4554905e-03, -4.9456940e-03,\n",
              "       -4.6077315e-03, -4.4870311e-03, -4.8789005e-03, -3.5455665e-03,\n",
              "        2.1288062e-03,  2.1382670e-03, -3.3291175e-03, -9.1585971e-04,\n",
              "       -3.7784535e-03,  1.7552492e-04,  3.6179388e-03, -1.0227939e-03,\n",
              "       -5.4581661e-04,  1.1315414e-03, -5.6283502e-04,  2.8363157e-03,\n",
              "       -2.0185506e-03, -3.1656099e-03, -1.6376440e-03, -5.8602804e-04,\n",
              "       -1.5409834e-03, -3.3361050e-03, -4.6645300e-03,  4.6348381e-03,\n",
              "       -6.1199907e-04, -1.5159257e-03,  1.5860344e-03, -1.1664410e-03,\n",
              "        3.2859552e-03, -8.9394918e-05,  4.7585112e-03, -2.8604888e-03,\n",
              "        1.7870965e-03,  4.8524085e-03, -9.0839138e-04, -3.1937750e-03,\n",
              "       -8.3192426e-04,  9.0845313e-04,  1.7710385e-03, -3.4806568e-03,\n",
              "        1.6101819e-03,  2.2398657e-04, -2.1868402e-03,  3.0227883e-03,\n",
              "        6.4482895e-04, -5.6800822e-04, -7.0112618e-04, -2.7772533e-03,\n",
              "        9.6756313e-04,  3.8751548e-03,  4.3076314e-03,  4.6617151e-03,\n",
              "       -2.1026635e-03,  2.0205320e-04, -3.0017954e-03, -3.0162409e-03,\n",
              "        3.9558049e-04,  3.9491439e-03, -1.9999321e-03, -7.7511714e-04,\n",
              "        4.9189562e-03,  4.6804403e-03,  2.2694732e-03, -4.4760280e-03,\n",
              "       -3.0834388e-03, -4.9874908e-03, -1.8007717e-03, -4.8345299e-03,\n",
              "       -2.8335529e-03,  2.3893486e-03, -2.7570227e-04,  4.6152547e-03,\n",
              "       -4.6036723e-03,  1.5455430e-03, -3.5875323e-03, -1.4864156e-03,\n",
              "       -2.3125133e-03,  7.6670194e-04,  2.7466565e-03, -2.3594664e-03,\n",
              "       -1.4988278e-03,  2.0831367e-03,  1.9607581e-03,  1.4782681e-03,\n",
              "       -8.8071788e-04, -2.7968094e-03, -4.7160024e-03, -2.0589465e-03],\n",
              "      dtype=float32)"
            ]
          },
          "metadata": {
            "tags": []
          },
          "execution_count": 42
        }
      ]
    },
    {
      "cell_type": "code",
      "metadata": {
        "id": "OO2nAQ12Mcz4",
        "colab_type": "code",
        "colab": {
          "base_uri": "https://localhost:8080/",
          "height": 171
        },
        "outputId": "94734a80-43bf-44af-aaab-6c496e31483f"
      },
      "source": [
        "a=model['this']+model['is']+model['the']+model['good']+model['machine']+model['learning']+model['bus']\n",
        "b=model['this']+model['is']+model['another']+model['room']\n",
        "c=model['orange']+model[ 'drink'] +model['comes']+model[ 'in']+model[ 'several']+model[ 'different']+model[ 'varieties']\n",
        "d=model['one']+model['book']"
      ],
      "execution_count": 49,
      "outputs": [
        {
          "output_type": "stream",
          "text": [
            "/usr/local/lib/python3.6/dist-packages/ipykernel_launcher.py:1: DeprecationWarning: Call to deprecated `__getitem__` (Method will be removed in 4.0.0, use self.wv.__getitem__() instead).\n",
            "  \"\"\"Entry point for launching an IPython kernel.\n",
            "/usr/local/lib/python3.6/dist-packages/ipykernel_launcher.py:2: DeprecationWarning: Call to deprecated `__getitem__` (Method will be removed in 4.0.0, use self.wv.__getitem__() instead).\n",
            "  \n",
            "/usr/local/lib/python3.6/dist-packages/ipykernel_launcher.py:3: DeprecationWarning: Call to deprecated `__getitem__` (Method will be removed in 4.0.0, use self.wv.__getitem__() instead).\n",
            "  This is separate from the ipykernel package so we can avoid doing imports until\n",
            "/usr/local/lib/python3.6/dist-packages/ipykernel_launcher.py:4: DeprecationWarning: Call to deprecated `__getitem__` (Method will be removed in 4.0.0, use self.wv.__getitem__() instead).\n",
            "  after removing the cwd from sys.path.\n"
          ],
          "name": "stderr"
        }
      ]
    },
    {
      "cell_type": "code",
      "metadata": {
        "id": "N-I1feElNX2g",
        "colab_type": "code",
        "colab": {
          "base_uri": "https://localhost:8080/",
          "height": 370
        },
        "outputId": "578ffed3-2556-4473-e907-e6a399146796"
      },
      "source": [
        "a"
      ],
      "execution_count": 39,
      "outputs": [
        {
          "output_type": "execute_result",
          "data": {
            "text/plain": [
              "array([ 0.00497987, -0.00623347, -0.00475505,  0.00369022, -0.00447757,\n",
              "       -0.00064998, -0.00118342,  0.00027056,  0.00478501,  0.00436804,\n",
              "       -0.00729548, -0.0038708 , -0.01157432,  0.00480843, -0.00088214,\n",
              "        0.00852369, -0.00453597, -0.00227019, -0.00692306,  0.00604969,\n",
              "       -0.01276053,  0.00323553,  0.00809293,  0.00019689,  0.00549732,\n",
              "       -0.00296052,  0.00241114, -0.00583702,  0.00213514, -0.00646999,\n",
              "       -0.01233496,  0.00157826, -0.02121363, -0.00151528, -0.0048268 ,\n",
              "        0.00055055,  0.00031108, -0.00033477, -0.00083367, -0.00242631,\n",
              "        0.01290125, -0.01147148, -0.00301079,  0.00118492, -0.00363751,\n",
              "       -0.00816393, -0.00608825, -0.00822678,  0.00409478,  0.00788547,\n",
              "        0.00364753, -0.00568115,  0.00887886,  0.00483894,  0.00801437,\n",
              "        0.00932384,  0.00320454,  0.00475782, -0.00133089, -0.01048209,\n",
              "       -0.00992226,  0.01471971,  0.00932742, -0.00327511, -0.0041103 ,\n",
              "       -0.00850535,  0.0026304 , -0.00566977,  0.0110728 , -0.01019262,\n",
              "        0.00620243, -0.00700112, -0.01242534,  0.0095641 ,  0.00601347,\n",
              "       -0.01140641, -0.00225598, -0.00447905, -0.00392838,  0.00814595,\n",
              "        0.00065364, -0.00729053,  0.0055476 , -0.00201648, -0.02251416,\n",
              "        0.00658918, -0.00703152,  0.01060823,  0.00981058, -0.02319659,\n",
              "        0.00865548, -0.00831867, -0.00989008,  0.00281383, -0.00871934,\n",
              "       -0.01010364, -0.00116299,  0.00042618,  0.00590123,  0.00053016],\n",
              "      dtype=float32)"
            ]
          },
          "metadata": {
            "tags": []
          },
          "execution_count": 39
        }
      ]
    },
    {
      "cell_type": "code",
      "metadata": {
        "id": "2BV8uscANfGu",
        "colab_type": "code",
        "colab": {}
      },
      "source": [
        "from scipy import spatial\n",
        "\n",
        "result = 1 - spatial.distance.cosine(a,d)"
      ],
      "execution_count": 0,
      "outputs": []
    },
    {
      "cell_type": "code",
      "metadata": {
        "id": "YCe67X3CNnKS",
        "colab_type": "code",
        "colab": {
          "base_uri": "https://localhost:8080/",
          "height": 34
        },
        "outputId": "efa76cca-db4f-41b8-c606-277c7b41ee8e"
      },
      "source": [
        "result"
      ],
      "execution_count": 51,
      "outputs": [
        {
          "output_type": "execute_result",
          "data": {
            "text/plain": [
              "0.023226365447044373"
            ]
          },
          "metadata": {
            "tags": []
          },
          "execution_count": 51
        }
      ]
    },
    {
      "cell_type": "code",
      "metadata": {
        "id": "aCed8DdFzljW",
        "colab_type": "code",
        "colab": {}
      },
      "source": [
        ""
      ],
      "execution_count": 0,
      "outputs": []
    }
  ]
}